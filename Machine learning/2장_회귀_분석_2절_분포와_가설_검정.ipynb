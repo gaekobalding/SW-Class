{
  "nbformat": 4,
  "nbformat_minor": 0,
  "metadata": {
    "colab": {
      "provenance": [],
      "authorship_tag": "ABX9TyNuRqE4TGj69x2ywsRp1pY5",
      "include_colab_link": true
    },
    "kernelspec": {
      "name": "python3",
      "display_name": "Python 3"
    },
    "language_info": {
      "name": "python"
    }
  },
  "cells": [
    {
      "cell_type": "markdown",
      "metadata": {
        "id": "view-in-github",
        "colab_type": "text"
      },
      "source": [
        "<a href=\"https://colab.research.google.com/github/gaekobalding/SW-Class/blob/main/Machine%20learning/2%EC%9E%A5_%ED%9A%8C%EA%B7%80_%EB%B6%84%EC%84%9D_2%EC%A0%88_%EB%B6%84%ED%8F%AC%EC%99%80_%EA%B0%80%EC%84%A4_%EA%B2%80%EC%A0%95.ipynb\" target=\"_parent\"><img src=\"https://colab.research.google.com/assets/colab-badge.svg\" alt=\"Open In Colab\"/></a>"
      ]
    },
    {
      "cell_type": "markdown",
      "source": [
        "# 피셔의 검정\n",
        "\n",
        "- 데이터의 수가 적을 경우 사용"
      ],
      "metadata": {
        "id": "CumtcunuwPDB"
      }
    },
    {
      "cell_type": "code",
      "execution_count": null,
      "metadata": {
        "colab": {
          "base_uri": "https://localhost:8080/"
        },
        "id": "unOLMF55wHYK",
        "outputId": "cbb6bb90-bf0d-420d-e222-7d10537b2cb8"
      },
      "outputs": [
        {
          "output_type": "stream",
          "name": "stdout",
          "text": [
            "20.0 0.034965034965034975\n"
          ]
        }
      ],
      "source": [
        "# 피셔의 검정으로 p-value 찾기\n",
        "from scipy.stats import fisher_exact\n",
        "oddsratio, pvalue = fisher_exact([[8,2], [1, 5]])\n",
        "print(oddsratio, pvalue)"
      ]
    },
    {
      "cell_type": "markdown",
      "source": [
        "# 맥니마 검정\n",
        "\n",
        "- 두 경우의 데이터가 얼만큼 일치하는지 확인"
      ],
      "metadata": {
        "id": "3ETSpHfNw914"
      }
    },
    {
      "cell_type": "code",
      "source": [
        "import numpy as np\n",
        "table = np.array([[59, 6], [16, 80]])\n",
        "print(table)"
      ],
      "metadata": {
        "colab": {
          "base_uri": "https://localhost:8080/"
        },
        "id": "gUTOQSQgwt2a",
        "outputId": "cfa10151-03be-4a0f-a075-127a843e546c"
      },
      "execution_count": null,
      "outputs": [
        {
          "output_type": "stream",
          "name": "stdout",
          "text": [
            "[[59  6]\n",
            " [16 80]]\n"
          ]
        }
      ]
    },
    {
      "cell_type": "code",
      "source": [
        "from statsmodels.stats.contingency_tables import mcnemar\n",
        "result = mcnemar(table, exact=True)\n",
        "print('statistic=%.6f, p-value=%.6f' % (result.statistic, result.pvalue))"
      ],
      "metadata": {
        "colab": {
          "base_uri": "https://localhost:8080/"
        },
        "id": "hmIE2HBkxbcb",
        "outputId": "ffbbd056-8039-46a5-e466-4ee113340b66"
      },
      "execution_count": null,
      "outputs": [
        {
          "output_type": "stream",
          "name": "stdout",
          "text": [
            "statistic=6.000000, p-value=0.052479\n"
          ]
        }
      ]
    },
    {
      "cell_type": "code",
      "source": [
        "result = mcnemar(table, exact=False, correction=True)\n",
        "print('statistic=%.6f, p-value=%.6f' % (result.statistic, result.pvalue))"
      ],
      "metadata": {
        "colab": {
          "base_uri": "https://localhost:8080/"
        },
        "id": "URGCGO1vyK2a",
        "outputId": "d0a7bdb4-a42f-4bdb-cd6c-88b31d8fbb9c"
      },
      "execution_count": null,
      "outputs": [
        {
          "output_type": "stream",
          "name": "stdout",
          "text": [
            "statistic=3.681818, p-value=0.055009\n"
          ]
        }
      ]
    },
    {
      "cell_type": "code",
      "source": [
        "result = mcnemar(table, exact=False, correction=False)\n",
        "print('statistic=%.6f, p-value=%.6f' % (result.statistic, result.pvalue))"
      ],
      "metadata": {
        "colab": {
          "base_uri": "https://localhost:8080/"
        },
        "id": "0EJ2XN2dzK5S",
        "outputId": "409d0040-fb96-4cd0-ed73-209cf7253d83"
      },
      "execution_count": null,
      "outputs": [
        {
          "output_type": "stream",
          "name": "stdout",
          "text": [
            "statistic=4.545455, p-value=0.033006\n"
          ]
        }
      ]
    },
    {
      "cell_type": "code",
      "source": [
        "# mid-p-value\n",
        "import scipy.stats\n",
        "def mcnemar_midp(table):\n",
        "  b, c = table[0,1], table[1,0]\n",
        "  n = b+c\n",
        "  dist = scipy.stats.binom(n, .5) #이산 이항 랜덤 변수\n",
        "  x = min(b, c)\n",
        "  return mcnemar(table).pvalue - dist.pmf(x) # pmf: 확률질량 함수\n",
        "mcnemar_midp(table)"
      ],
      "metadata": {
        "colab": {
          "base_uri": "https://localhost:8080/"
        },
        "id": "_9zyI-xczlRS",
        "outputId": "b30c8a8e-546a-4a5d-f0b0-8f82225e3584"
      },
      "execution_count": null,
      "outputs": [
        {
          "output_type": "execute_result",
          "data": {
            "text/plain": [
              "0.03468966484069824"
            ]
          },
          "metadata": {},
          "execution_count": 9
        }
      ]
    },
    {
      "cell_type": "code",
      "source": [],
      "metadata": {
        "id": "xx60n2zl0k1r"
      },
      "execution_count": null,
      "outputs": []
    }
  ]
}